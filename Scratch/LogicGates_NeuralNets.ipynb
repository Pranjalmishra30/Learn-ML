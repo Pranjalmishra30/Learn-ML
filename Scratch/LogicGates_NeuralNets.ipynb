{
 "cells": [
  {
   "cell_type": "markdown",
   "metadata": {},
   "source": [
    "#### This is an implementation of a simple NeuralNet for Digital Logic Gates.\n",
    "#####  It utilises the concept of **forward propagation**"
   ]
  },
  {
   "cell_type": "markdown",
   "metadata": {},
   "source": [
    "##### We are going to make AND,OR, and XOR gates"
   ]
  },
  {
   "cell_type": "code",
   "execution_count": 1,
   "metadata": {},
   "outputs": [],
   "source": [
    "import numpy as np\n",
    "import pandas as pd"
   ]
  },
  {
   "cell_type": "code",
   "execution_count": 2,
   "metadata": {},
   "outputs": [],
   "source": [
    "x = np.array([[0,0],\n",
    "              [0,1],\n",
    "              [1,0],\n",
    "              [1,1]]) \n",
    "X= np.c_[np.ones(4),x]"
   ]
  },
  {
   "cell_type": "code",
   "execution_count": 3,
   "metadata": {},
   "outputs": [],
   "source": [
    "def sigmoid (z):\n",
    "    a = (1/(1+np.exp(-z)))\n",
    "    return np.round(a)"
   ]
  },
  {
   "cell_type": "code",
   "execution_count": 4,
   "metadata": {},
   "outputs": [],
   "source": [
    "def compute (x,weight):\n",
    "    Z=(np.dot(x,weight))\n",
    "    return sigmoid(Z)"
   ]
  },
  {
   "cell_type": "code",
   "execution_count": 5,
   "metadata": {},
   "outputs": [
    {
     "name": "stdout",
     "output_type": "stream",
     "text": [
      "AND Gate Representaion\n",
      "\n",
      "   X1  X2  Res\n",
      "0   0   0  0.0\n",
      "1   0   1  0.0\n",
      "2   1   0  0.0\n",
      "3   1   1  1.0\n"
     ]
    }
   ],
   "source": [
    "AND_weights = np.array([-30,20,20]).reshape(3,1)\n",
    "res = compute(X,AND_weights)\n",
    "dataset = pd.DataFrame({'X1': x[:, 0], 'X2': x[:, 1],'Res': res[:,0]})\n",
    "print('AND Gate Representaion\\n')\n",
    "print(dataset)"
   ]
  },
  {
   "cell_type": "code",
   "execution_count": 6,
   "metadata": {},
   "outputs": [
    {
     "name": "stdout",
     "output_type": "stream",
     "text": [
      "OR Gate Representaion\n",
      "\n",
      "   X1  X2  Res\n",
      "0   0   0  0.0\n",
      "1   0   1  1.0\n",
      "2   1   0  1.0\n",
      "3   1   1  1.0\n"
     ]
    }
   ],
   "source": [
    "OR_weights = np.array([-30,40,40]).reshape(3,1)\n",
    "res = compute(X,OR_weights)\n",
    "dataset = pd.DataFrame({'X1': x[:, 0], 'X2': x[:, 1],'Res': res[:,0]})\n",
    "print('OR Gate Representaion\\n')\n",
    "print(dataset)"
   ]
  },
  {
   "cell_type": "markdown",
   "metadata": {},
   "source": [
    "For a **XOR gate** , we will need to have 3 layers to get our output  \n",
    "Layer 1 = **Input** Layer  \n",
    "\n",
    "Layer 2 = **Hidden** Layer\n",
    "\n",
    "Layer 3 = **Output** Layer"
   ]
  },
  {
   "cell_type": "code",
   "execution_count": 7,
   "metadata": {},
   "outputs": [
    {
     "name": "stdout",
     "output_type": "stream",
     "text": [
      "XOR Gate Representaion\n",
      "\n",
      "   X1  X2  Res\n",
      "0   0   0  0.0\n",
      "1   0   1  1.0\n",
      "2   1   0  1.0\n",
      "3   1   1  0.0\n"
     ]
    }
   ],
   "source": [
    "# 1st layer to 2nd layer\n",
    "theta1_2 = np.array([-10,20,20]).reshape(3,1) # Weight of unit 1 of layer 2\n",
    "theta2_2 = np.array([20,-10,-10]).reshape(3,1) # Weight of unit 2 of layer 2\n",
    "\n",
    "a1_2 = compute(X,theta1_2)\n",
    "a2_2 = compute(X,theta2_2)\n",
    "A = np.concatenate((a1_2,a2_2),axis=1)\n",
    "A = np.c_[np.ones(4),A] \n",
    "\n",
    "# 2nd Layer to 3rd Layer\n",
    "theta_3 = np.array([-10,10,10]).reshape(3,1) # Weight of layer 3\n",
    "res = compute(A,theta_3)\n",
    "dataset = pd.DataFrame({'X1': x[:, 0], 'X2': x[:, 1],'Res': res[:,0]})\n",
    "print('XOR Gate Representaion\\n')\n",
    "print(dataset)"
   ]
  },
  {
   "cell_type": "code",
   "execution_count": null,
   "metadata": {},
   "outputs": [],
   "source": []
  }
 ],
 "metadata": {
  "kernelspec": {
   "display_name": "Python 3",
   "language": "python",
   "name": "python3"
  },
  "language_info": {
   "codemirror_mode": {
    "name": "ipython",
    "version": 3
   },
   "file_extension": ".py",
   "mimetype": "text/x-python",
   "name": "python",
   "nbconvert_exporter": "python",
   "pygments_lexer": "ipython3",
   "version": "3.6.9"
  }
 },
 "nbformat": 4,
 "nbformat_minor": 2
}
